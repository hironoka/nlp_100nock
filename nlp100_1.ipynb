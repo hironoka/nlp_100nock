{
 "cells": [
  {
   "cell_type": "code",
   "execution_count": 1,
   "metadata": {},
   "outputs": [
    {
     "name": "stdout",
     "output_type": "stream",
     "text": [
      "desserts\n"
     ]
    }
   ],
   "source": [
    "# 00\n",
    "print \"stressed\"[::-1]"
   ]
  },
  {
   "cell_type": "code",
   "execution_count": 2,
   "metadata": {},
   "outputs": [
    {
     "name": "stdout",
     "output_type": "stream",
     "text": [
      "パトカー\n"
     ]
    }
   ],
   "source": [
    "# 01\n",
    "print u'パタトクカシーー'[::2].encode('utf-8')"
   ]
  },
  {
   "cell_type": "code",
   "execution_count": 3,
   "metadata": {},
   "outputs": [
    {
     "name": "stdout",
     "output_type": "stream",
     "text": [
      "パタトクカシーー\n"
     ]
    }
   ],
   "source": [
    "# 02\n",
    "a=u'パトカー'+u'タクシー'\n",
    "a=a[::4]+a[1::4]+a[2::4]+a[3::4]\n",
    "print a"
   ]
  },
  {
   "cell_type": "code",
   "execution_count": 4,
   "metadata": {},
   "outputs": [
    {
     "name": "stdout",
     "output_type": "stream",
     "text": [
      "[3, 1, 4, 1, 6, 9, 2, 7, 5, 3, 5, 8, 9, 7, 9]\n"
     ]
    }
   ],
   "source": [
    "# 03\n",
    "a=\"Now I need a drink, alcoholic of course, after the heavy lectures involving quantum mechanics.\"\n",
    "\n",
    "a=a.translate(None, \".\").split(\" \")\n",
    "print map(lambda x: len(x), a)"
   ]
  },
  {
   "cell_type": "code",
   "execution_count": 43,
   "metadata": {},
   "outputs": [
    {
     "name": "stdout",
     "output_type": "stream",
     "text": [
      "{1: 'N', 2: 'I', 3: 'ne', 4: 'a', 5: 'd', 6: 'a', 7: 'o', 8: 'c', 9: 'a', 10: 'th', 11: 'he', 12: 'le', 13: 'in', 14: 'qu', 15: 'm'}\n"
     ]
    }
   ],
   "source": [
    "# 04\n",
    "a=\"Now I need a drink, alcoholic of course, after the heavy lectures involving quantum mechanics.\"\n",
    "b={}\n",
    "\n",
    "a=a.translate(None, \".\").split(\" \")\n",
    "for i, j in enumerate(a):\n",
    "    n=i+1\n",
    "    if n in (1, 5, 6, 7, 8, 9, 15, 16, 19):\n",
    "        b[n]=j[0]\n",
    "    else:\n",
    "        b[n]=j[0:2]\n",
    "print b\n",
    "\n",
    "\n",
    "# What is splitSource? It is sourceCode.split. Here comes the answer. \n",
    "# You should call a method by using (), without which you will get the method itself. \n",
    "# The method str.split is obviously not iterable!\n",
    "# http://stackoverflow.com/questions/30145926/main-loop-builtin-function-or-method-object-is-not-iterable"
   ]
  },
  {
   "cell_type": "code",
   "execution_count": 31,
   "metadata": {},
   "outputs": [
    {
     "data": {
      "text/plain": [
       "['I ', ' a', 'am', 'm ', ' a', 'an', 'n ', ' N', 'NL', 'LP', 'Pe', 'er']"
      ]
     },
     "execution_count": 31,
     "metadata": {},
     "output_type": "execute_result"
    }
   ],
   "source": [
    "#05\n",
    "a=\"I am an NLPer\"\n",
    "\n",
    "# def sample(sentence, n):\n",
    "#     ary=sentence.sprit(\"\")\n",
    "#     l=ary.len - 1\n",
    "#     for i, j in enumerate(ary):\n",
    "#         if i in(0, l):\n",
    "            \n",
    "def sample(a, n):\n",
    "    last = len(a) - n + 1\n",
    "    ary = []\n",
    "    for i in range(0, last):\n",
    "        ary.append(a[i:i+n])\n",
    "    return ary\n",
    "\n",
    "sample(a, 2) "
   ]
  },
  {
   "cell_type": "code",
   "execution_count": 11,
   "metadata": {},
   "outputs": [
    {
     "data": {
      "text/plain": [
       "[['I', 'am'], ['am', 'an'], ['an', 'NLPer']]"
      ]
     },
     "execution_count": 11,
     "metadata": {},
     "output_type": "execute_result"
    }
   ],
   "source": [
    "sample(a.split(), 2)"
   ]
  },
  {
   "cell_type": "code",
   "execution_count": 32,
   "metadata": {},
   "outputs": [
    {
     "name": "stdout",
     "output_type": "stream",
     "text": [
      "set(['ad', 'ag', 'di', 'is', 'ap', 'pa', 'ra', 'ph', 'ar', 'se', 'gr'])\n",
      "set(['ap', 'pa', 'ar', 'ra'])\n",
      "set(['is', 'ad', 'se', 'di'])\n",
      "set(['ph', 'gr', 'ag'])\n"
     ]
    }
   ],
   "source": [
    "#06\n",
    "a=\"paraparaparadise\"\n",
    "b=\"paragraph\"\n",
    "\n",
    "\n",
    "def sample(input, n):\n",
    "    last = len(input) - n + 1\n",
    "    ret = []\n",
    "    for i in range(last):\n",
    "        ret.append(input[i:i+n])\n",
    "    return ret\n",
    "\n",
    "X=set(sample(a, 2))\n",
    "Y=set(sample(b, 2))\n",
    "\n",
    "# 和集合　\n",
    "print X|Y \n",
    "# 積集合\n",
    "print X&Y\n",
    "# 差集合\n",
    "print X.difference(Y) \n",
    "print Y.difference(X)\n"
   ]
  },
  {
   "cell_type": "code",
   "execution_count": 51,
   "metadata": {},
   "outputs": [
    {
     "name": "stdout",
     "output_type": "stream",
     "text": [
      "12時の気温は22.4\n"
     ]
    }
   ],
   "source": [
    "#07\n",
    "def sample(x, y, z):\n",
    "    return unicode(x) + u'時の' + unicode(y) + u'は' + unicode(z)\n",
    "    \n",
    "x=12\n",
    "y=u\"気温\"\n",
    "z=22.4\n",
    "print sample(x,y,z)"
   ]
  },
  {
   "cell_type": "code",
   "execution_count": null,
   "metadata": {
    "collapsed": true
   },
   "outputs": [],
   "source": [
    "#08\n",
    "a=\"testtest\"\n",
    "def cipher(a):"
   ]
  },
  {
   "cell_type": "code",
   "execution_count": 54,
   "metadata": {},
   "outputs": [
    {
     "name": "stdout",
     "output_type": "stream",
     "text": [
      "4, 9, 10, 12, 13, 16, 17\n"
     ]
    }
   ],
   "source": [
    "#09\n",
    "import random\n",
    "\n",
    "a=\"I couldn't believe that I could actually understand what I was reading : the phenomenal power of the human mind .\"\n",
    "b=a.translate(None, \".\").split(\" \")\n",
    "first=b[0]\n",
    "last=b[len(b)-1]\n",
    "c=b[1:-1]\n",
    "\n",
    "d=[]\n",
    "h={}\n",
    "n=[]\n",
    "\n",
    "for i, j in enumerate(c):\n",
    "    if len(j)<4:\n",
    "        h[i]=j\n",
    "        n.append(i+1)\n",
    "    else:\n",
    "         d.append(j)\n",
    "\n",
    "random.shuffle(d)\n",
    "print \", \".join(map(str,n))\n",
    "\n",
    "for i, j in enumerate(a):\n",
    "    n=i+1\n",
    "    if n in (1, 5, 6, 7, 8, 9, 15, 16, 19):\n",
    "        b[n]=j[0]\n",
    "    else:\n",
    "        b[n]=j[0:2]\n",
    "print b\n",
    "\n",
    "\n",
    "\n",
    "# e.insert(0, first)\n",
    "# e.append(last)\n",
    "# print ' '.join(c)"
   ]
  },
  {
   "cell_type": "code",
   "execution_count": null,
   "metadata": {
    "collapsed": true
   },
   "outputs": [],
   "source": []
  },
  {
   "cell_type": "code",
   "execution_count": null,
   "metadata": {
    "collapsed": true
   },
   "outputs": [],
   "source": []
  }
 ],
 "metadata": {
  "kernelspec": {
   "display_name": "Python 2",
   "language": "python",
   "name": "python2"
  },
  "language_info": {
   "codemirror_mode": {
    "name": "ipython",
    "version": 2
   },
   "file_extension": ".py",
   "mimetype": "text/x-python",
   "name": "python",
   "nbconvert_exporter": "python",
   "pygments_lexer": "ipython2",
   "version": "2.7.12"
  }
 },
 "nbformat": 4,
 "nbformat_minor": 2
}
